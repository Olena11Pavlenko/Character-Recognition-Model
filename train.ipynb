{
 "cells": [
  {
   "cell_type": "code",
   "execution_count": 1,
   "id": "820a6a8b",
   "metadata": {},
   "outputs": [],
   "source": [
    "%matplotlib inline\n",
    "import numpy as np\n",
    "import matplotlib.pyplot as plt\n",
    "import tensorflow as tf"
   ]
  },
  {
   "cell_type": "code",
   "execution_count": 2,
   "id": "0ac342b9",
   "metadata": {},
   "outputs": [],
   "source": [
    "from tensorflow.keras.losses import categorical_crossentropy\n",
    "from tensorflow.keras.callbacks import ModelCheckpoint, EarlyStopping\n",
    "from tensorflow.keras.layers import Conv2D, MaxPooling2D, Flatten, Dense, Dropout\n",
    "from tensorflow.keras.models import Sequential"
   ]
  },
  {
   "cell_type": "code",
   "execution_count": 3,
   "id": "c00e448e",
   "metadata": {},
   "outputs": [],
   "source": [
    "from scipy import io as spio\n",
    "emnist = spio.loadmat(\"./matlab/emnist-balanced.mat\")"
   ]
  },
  {
   "cell_type": "code",
   "execution_count": 4,
   "id": "992725c6",
   "metadata": {},
   "outputs": [],
   "source": [
    "# load training dataset\n",
    "emnist_train_images = emnist[\"dataset\"][0][0][0][0][0][0]\n",
    "emnist_train_images = emnist_train_images.astype(np.float32)\n",
    "\n",
    "# load training labels\n",
    "y_train = emnist[\"dataset\"][0][0][0][0][0][1]"
   ]
  },
  {
   "cell_type": "code",
   "execution_count": 5,
   "id": "f001aea7",
   "metadata": {},
   "outputs": [],
   "source": [
    "# load test dataset\n",
    "emnist_test_images = emnist[\"dataset\"][0][0][1][0][0][0]\n",
    "emnist_test_images = emnist_test_images.astype(np.float32)\n",
    "\n",
    "# load test labels\n",
    "y_test = emnist[\"dataset\"][0][0][1][0][0][1]"
   ]
  },
  {
   "cell_type": "code",
   "execution_count": 6,
   "id": "2be4b733",
   "metadata": {},
   "outputs": [
    {
     "data": {
      "text/plain": [
       "(112800, 784)"
      ]
     },
     "execution_count": 6,
     "metadata": {},
     "output_type": "execute_result"
    }
   ],
   "source": [
    "emnist_train_images.shape"
   ]
  },
  {
   "cell_type": "code",
   "execution_count": 7,
   "id": "2d6d9e20",
   "metadata": {
    "scrolled": true
   },
   "outputs": [
    {
     "data": {
      "text/plain": [
       "(112800, 1)"
      ]
     },
     "execution_count": 7,
     "metadata": {},
     "output_type": "execute_result"
    }
   ],
   "source": [
    "y_train.shape"
   ]
  },
  {
   "cell_type": "code",
   "execution_count": 8,
   "id": "9cf9d973",
   "metadata": {},
   "outputs": [],
   "source": [
    "# reshape using matlab order\n",
    "x_train = emnist_train_images.reshape(emnist_train_images.shape[0], 1, 28, 28, order=\"A\")\n",
    "x_test = emnist_test_images.reshape(emnist_test_images.shape[0], 1, 28, 28, order=\"A\")\n",
    "x_train = x_train.reshape(x_train.shape[0], 28, 28, 1)\n",
    "x_test = x_test.reshape(x_test.shape[0], 28, 28, 1)\n",
    "x_train /= 255\n",
    "x_test /= 255"
   ]
  },
  {
   "cell_type": "code",
   "execution_count": 9,
   "id": "e37b7deb",
   "metadata": {},
   "outputs": [
    {
     "data": {
      "text/plain": [
       "(112800, 28, 28, 1)"
      ]
     },
     "execution_count": 9,
     "metadata": {},
     "output_type": "execute_result"
    }
   ],
   "source": [
    "x_train.shape"
   ]
  },
  {
   "cell_type": "code",
   "execution_count": 10,
   "id": "8822d242",
   "metadata": {},
   "outputs": [
    {
     "data": {
      "text/plain": [
       "(112800, 47)"
      ]
     },
     "execution_count": 10,
     "metadata": {},
     "output_type": "execute_result"
    }
   ],
   "source": [
    "# labels should be onehot encoded\n",
    "y_train = tf.keras.utils.to_categorical(y_train, 47)\n",
    "y_test = tf.keras.utils.to_categorical(y_test, 47)\n",
    "\n",
    "y_train.shape"
   ]
  },
  {
   "cell_type": "code",
   "execution_count": 11,
   "id": "24d3a6eb",
   "metadata": {
    "scrolled": true
   },
   "outputs": [
    {
     "name": "stdout",
     "output_type": "stream",
     "text": [
      "[0. 0. 0. 0. 0. 0. 0. 0. 0. 0. 0. 0. 0. 0. 0. 1. 0. 0. 0. 0. 0. 0. 0. 0.\n",
      " 0. 0. 0. 0. 0. 0. 0. 0. 0. 0. 0. 0. 0. 0. 0. 0. 0. 0. 0. 0. 0. 0. 0.]\n"
     ]
    },
    {
     "data": {
      "image/png": "[encoded data removed]",
      "text/plain": [
       "<Figure size 640x480 with 1 Axes>"
      ]
     },
     "metadata": {},
     "output_type": "display_data"
    }
   ],
   "source": [
    "def display_sample(num):\n",
    "    #Print the one-hot array of this sample's label \n",
    "    print(y_train[num])  \n",
    "    #Print the label converted back to a number\n",
    "    label = y_train[num].argmax(axis=0)\n",
    "    #Reshape the 768 values to a 28x28 image\n",
    "    image = x_train[num].reshape([28,28])\n",
    "    plt.title('Sample: %d  Label: %d' % (num, label))\n",
    "    plt.imshow(image, cmap=plt.get_cmap('gray_r'))\n",
    "    plt.show()\n",
    "    \n",
    "display_sample(88676)"
   ]
  },
  {
   "cell_type": "code",
   "execution_count": 12,
   "id": "0e9f368b",
   "metadata": {},
   "outputs": [
    {
     "name": "stdout",
     "output_type": "stream",
     "text": [
      "Model: \"sequential\"\n",
      "_________________________________________________________________\n",
      "Layer (type)                 Output Shape              Param #   \n",
      "=================================================================\n",
      "conv2d (Conv2D)              (None, 26, 26, 32)        320       \n",
      "_________________________________________________________________\n",
      "max_pooling2d (MaxPooling2D) (None, 13, 13, 32)        0         \n",
      "_________________________________________________________________\n",
      "dropout (Dropout)            (None, 13, 13, 32)        0         \n",
      "_________________________________________________________________\n",
      "conv2d_1 (Conv2D)            (None, 11, 11, 128)       36992     \n",
      "_________________________________________________________________\n",
      "max_pooling2d_1 (MaxPooling2 (None, 5, 5, 128)         0         \n",
      "_________________________________________________________________\n",
      "dropout_1 (Dropout)          (None, 5, 5, 128)         0         \n",
      "_________________________________________________________________\n",
      "flatten (Flatten)            (None, 3200)              0         \n",
      "_________________________________________________________________\n",
      "dense (Dense)                (None, 512)               1638912   \n",
      "_________________________________________________________________\n",
      "dropout_2 (Dropout)          (None, 512)               0         \n",
      "_________________________________________________________________\n",
      "dense_1 (Dense)              (None, 128)               65664     \n",
      "_________________________________________________________________\n",
      "dense_2 (Dense)              (None, 47)                6063      \n",
      "=================================================================\n",
      "Total params: 1,747,951\n",
      "Trainable params: 1,747,951\n",
      "Non-trainable params: 0\n",
      "_________________________________________________________________\n"
     ]
    },
    {
     "name": "stderr",
     "output_type": "stream",
     "text": [
      "2023-05-21 20:57:36.567921: I tensorflow/core/platform/cpu_feature_guard.cc:145] This TensorFlow binary is optimized with Intel(R) MKL-DNN to use the following CPU instructions in performance critical operations:  SSE4.1 SSE4.2\n",
      "To enable them in non-MKL-DNN operations, rebuild TensorFlow with the appropriate compiler flags.\n",
      "2023-05-21 20:57:36.568222: I tensorflow/core/common_runtime/process_util.cc:115] Creating new thread pool with default inter op setting: 8. Tune using inter_op_parallelism_threads for best performance.\n"
     ]
    }
   ],
   "source": [
    "model = Sequential()\n",
    "model.add(Conv2D(32, kernel_size=(3, 3),\n",
    "                 activation='relu',\n",
    "                 input_shape=(28, 28, 1)))\n",
    "# Reduce by taking the max of each 2x2 block\n",
    "model.add(MaxPooling2D(pool_size=(2, 2)))\n",
    "# Dropout to avoid overfitting\n",
    "model.add(Dropout(0.2))\n",
    "model.add(Conv2D(128, kernel_size=(3, 3),\n",
    "                 activation='relu',\n",
    "                 input_shape=(28, 28, 1)))\n",
    "# Reduce by taking the max of each 2x2 block\n",
    "model.add(MaxPooling2D(pool_size=(2, 2)))\n",
    "# Dropout to avoid overfitting\n",
    "model.add(Dropout(0.2))\n",
    "# Flatten the results to one dimension\n",
    "model.add(Flatten())\n",
    "model.add(Dense(512, activation='relu'))\n",
    "# Another dropout\n",
    "model.add(Dropout(0.2))\n",
    "model.add(Dense(128, activation='relu'))\n",
    "# Final categorization with softmax\n",
    "model.add(Dense(47, activation='softmax'))\n",
    "\n",
    "model.summary()"
   ]
  },
  {
   "cell_type": "code",
   "execution_count": 13,
   "id": "b4dd69b7",
   "metadata": {},
   "outputs": [
    {
     "name": "stdout",
     "output_type": "stream",
     "text": [
      "Train on 112800 samples, validate on 18800 samples\n",
      "Epoch 1/20\n",
      "112640/112800 [============================>.] - ETA: 0s - loss: 0.9141 - accuracy: 0.7203\n",
      "Epoch 00001: val_accuracy improved from -inf to 0.83628, saving model to ./best_model\n",
      "WARNING:tensorflow:From /Users/elenapavlenko/opt/anaconda3/envs/CHI/lib/python3.7/site-packages/tensorflow_core/python/ops/resource_variable_ops.py:1781: calling BaseResourceVariable.__init__ (from tensorflow.python.ops.resource_variable_ops) with constraint is deprecated and will be removed in a future version.\n",
      "Instructions for updating:\n",
      "If using Keras pass *_constraint arguments to layers.\n"
     ]
    },
    {
     "name": "stderr",
     "output_type": "stream",
     "text": [
      "2023-05-21 21:02:24.222215: W tensorflow/python/util/util.cc:299] Sets are not currently considered sequences, but this may change in the future, so consider avoiding using them.\n"
     ]
    },
    {
     "name": "stdout",
     "output_type": "stream",
     "text": [
      "INFO:tensorflow:Assets written to: ./best_model/assets\n",
      "112800/112800 [==============================] - 288s 3ms/sample - loss: 0.9136 - accuracy: 0.7204 - val_loss: 0.4804 - val_accuracy: 0.8363\n",
      "Epoch 2/20\n",
      "112640/112800 [============================>.] - ETA: 0s - loss: 0.4649 - accuracy: 0.8392\n",
      "Epoch 00002: val_accuracy improved from 0.83628 to 0.86149, saving model to ./best_model\n",
      "INFO:tensorflow:Assets written to: ./best_model/assets\n",
      "112800/112800 [==============================] - 291s 3ms/sample - loss: 0.4648 - accuracy: 0.8392 - val_loss: 0.4045 - val_accuracy: 0.8615\n",
      "Epoch 3/20\n",
      "112640/112800 [============================>.] - ETA: 1s - loss: 0.4015 - accuracy: 0.8583\n",
      "Epoch 00003: val_accuracy improved from 0.86149 to 0.86947, saving model to ./best_model\n",
      "INFO:tensorflow:Assets written to: ./best_model/assets\n",
      "112800/112800 [==============================] - 1238s 11ms/sample - loss: 0.4016 - accuracy: 0.8583 - val_loss: 0.3754 - val_accuracy: 0.8695\n",
      "Epoch 4/20\n",
      "112640/112800 [============================>.] - ETA: 0s - loss: 0.3616 - accuracy: 0.8701\n",
      "Epoch 00004: val_accuracy improved from 0.86947 to 0.87606, saving model to ./best_model\n",
      "INFO:tensorflow:Assets written to: ./best_model/assets\n",
      "112800/112800 [==============================] - 286s 3ms/sample - loss: 0.3616 - accuracy: 0.8701 - val_loss: 0.3553 - val_accuracy: 0.8761\n",
      "Epoch 5/20\n",
      "112640/112800 [============================>.] - ETA: 0s - loss: 0.3347 - accuracy: 0.8782\n",
      "Epoch 00005: val_accuracy did not improve from 0.87606\n",
      "112800/112800 [==============================] - 286s 3ms/sample - loss: 0.3346 - accuracy: 0.8783 - val_loss: 0.3471 - val_accuracy: 0.8737\n",
      "Epoch 6/20\n",
      "112640/112800 [============================>.] - ETA: 0s - loss: 0.3131 - accuracy: 0.8833\n",
      "Epoch 00006: val_accuracy improved from 0.87606 to 0.88053, saving model to ./best_model\n",
      "INFO:tensorflow:Assets written to: ./best_model/assets\n",
      "112800/112800 [==============================] - 290s 3ms/sample - loss: 0.3132 - accuracy: 0.8833 - val_loss: 0.3408 - val_accuracy: 0.8805\n",
      "Epoch 7/20\n",
      "112640/112800 [============================>.] - ETA: 0s - loss: 0.2943 - accuracy: 0.8888\n",
      "Epoch 00007: val_accuracy improved from 0.88053 to 0.88463, saving model to ./best_model\n",
      "INFO:tensorflow:Assets written to: ./best_model/assets\n",
      "112800/112800 [==============================] - 289s 3ms/sample - loss: 0.2942 - accuracy: 0.8887 - val_loss: 0.3299 - val_accuracy: 0.8846\n",
      "Epoch 8/20\n",
      "112640/112800 [============================>.] - ETA: 0s - loss: 0.2788 - accuracy: 0.8932\n",
      "Epoch 00008: val_accuracy did not improve from 0.88463\n",
      "112800/112800 [==============================] - 291s 3ms/sample - loss: 0.2788 - accuracy: 0.8931 - val_loss: 0.3381 - val_accuracy: 0.8844\n",
      "Epoch 9/20\n",
      "112640/112800 [============================>.] - ETA: 0s - loss: 0.2656 - accuracy: 0.8969\n",
      "Epoch 00009: val_accuracy improved from 0.88463 to 0.88622, saving model to ./best_model\n",
      "INFO:tensorflow:Assets written to: ./best_model/assets\n",
      "112800/112800 [==============================] - 290s 3ms/sample - loss: 0.2657 - accuracy: 0.8968 - val_loss: 0.3280 - val_accuracy: 0.8862\n",
      "Epoch 10/20\n",
      "112640/112800 [============================>.] - ETA: 0s - loss: 0.2547 - accuracy: 0.9006\n",
      "Epoch 00010: val_accuracy improved from 0.88622 to 0.88798, saving model to ./best_model\n",
      "INFO:tensorflow:Assets written to: ./best_model/assets\n",
      "112800/112800 [==============================] - 288s 3ms/sample - loss: 0.2546 - accuracy: 0.9006 - val_loss: 0.3343 - val_accuracy: 0.8880\n",
      "Epoch 11/20\n",
      "112640/112800 [============================>.] - ETA: 0s - loss: 0.2436 - accuracy: 0.9041\n",
      "Epoch 00011: val_accuracy improved from 0.88798 to 0.88809, saving model to ./best_model\n",
      "INFO:tensorflow:Assets written to: ./best_model/assets\n",
      "112800/112800 [==============================] - 290s 3ms/sample - loss: 0.2437 - accuracy: 0.9042 - val_loss: 0.3313 - val_accuracy: 0.8881\n",
      "Epoch 12/20\n",
      "112640/112800 [============================>.] - ETA: 0s - loss: 0.2324 - accuracy: 0.9083\n",
      "Epoch 00012: val_accuracy did not improve from 0.88809\n",
      "112800/112800 [==============================] - 293s 3ms/sample - loss: 0.2324 - accuracy: 0.9084 - val_loss: 0.3368 - val_accuracy: 0.8865\n",
      "Epoch 13/20\n",
      "112640/112800 [============================>.] - ETA: 0s - loss: 0.2238 - accuracy: 0.9098\n",
      "Epoch 00013: val_accuracy did not improve from 0.88809\n",
      "112800/112800 [==============================] - 291s 3ms/sample - loss: 0.2238 - accuracy: 0.9098 - val_loss: 0.3434 - val_accuracy: 0.8872\n",
      "Epoch 14/20\n",
      "112640/112800 [============================>.] - ETA: 0s - loss: 0.2158 - accuracy: 0.9138\n",
      "Epoch 00014: val_accuracy did not improve from 0.88809\n",
      "112800/112800 [==============================] - 288s 3ms/sample - loss: 0.2160 - accuracy: 0.9137 - val_loss: 0.3497 - val_accuracy: 0.8863\n",
      "Epoch 00014: early stopping\n",
      "INFO:tensorflow:Assets written to: ./model/assets\n",
      "model saved\n"
     ]
    }
   ],
   "source": [
    "# save best model with maximum validation accuracy\n",
    "checkpoint = ModelCheckpoint(\"./best_model\", monitor=\"val_accuracy\", verbose=1, save_best_only=True, mode=\"max\")\n",
    "\n",
    "# stop model training early if validation loss doesn't continue to decrease over 5 iterations\n",
    "early_stopping = EarlyStopping(monitor=\"val_loss\", patience=5, verbose=1, mode=\"min\")\n",
    "\n",
    "# create list of callbacks\n",
    "callbacks_list = [checkpoint, early_stopping]\n",
    "\n",
    "# compile model\n",
    "model.compile(optimizer=\"adam\",loss=categorical_crossentropy, metrics=[\"accuracy\"])\n",
    "\n",
    "# train and save model\n",
    "history = model.fit(x_train, \n",
    "          y_train, \n",
    "          epochs=20, \n",
    "          batch_size=256, \n",
    "          validation_data=(x_test, y_test), \n",
    "          callbacks=callbacks_list, \n",
    "          verbose=1)\n",
    "model.save(\"./model\")\n",
    "print(\"model saved\")"
   ]
  },
  {
   "cell_type": "code",
   "execution_count": null,
   "id": "6828a238",
   "metadata": {},
   "outputs": [],
   "source": []
  }
 ],
 "metadata": {
  "kernelspec": {
   "display_name": "Python 3 (ipykernel)",
   "language": "python",
   "name": "python3"
  },
  "language_info": {
   "codemirror_mode": {
    "name": "ipython",
    "version": 3
   },
   "file_extension": ".py",
   "mimetype": "text/x-python",
   "name": "python",
   "nbconvert_exporter": "python",
   "pygments_lexer": "ipython3",
   "version": "3.7.16"
  }
 },
 "nbformat": 4,
 "nbformat_minor": 5
}
